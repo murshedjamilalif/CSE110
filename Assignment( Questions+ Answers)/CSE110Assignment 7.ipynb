{
 "cells": [
  {
   "cell_type": "markdown",
   "metadata": {
    "id": "oMYzsTcnHEll"
   },
   "source": [
    "# CSE110 Lab Assignment 7 on Sorting and Searching\n",
    "\n",
    "Write your name, Student ID and CSE110 section below:\n"
   ]
  },
  {
   "cell_type": "code",
   "execution_count": null,
   "metadata": {
    "id": "ljd7OxU2gvWb"
   },
   "outputs": [],
   "source": [
    "#STUDENT NAME: Murshed Jamil Alif\n",
    "#STUDENT ID:21301069\n",
    "#CSE110 SECTION: 07"
   ]
  },
  {
   "cell_type": "markdown",
   "metadata": {
    "id": "jT-t2zlnHEll"
   },
   "source": [
    "## Write the Python code for the following problems:\n",
    "**<font color='red'>[MUST MAINTAIN VARIABLE NAMING CONVENTIONS FOR ALL THE TASKS]</font>**\n",
    "\n",
    "### Task 1\n",
    "\n",
    "Suppose you have a list named my_list as given below. <br/>\n",
    "my_list = [10,1,20,3,6,2,5,11,15,2,12,14,17,18,29] <br/>\n",
    "Now use bubble sort to sort my_list into ascending order.\n",
    "\n",
    "**Output**<br/>\n",
    "[1, 2, 2, 3, 5, 6, 10, 11, 12, 14, 15, 17, 18, 20, 29]"
   ]
  },
  {
   "cell_type": "code",
   "execution_count": 1,
   "metadata": {
    "id": "7qXVakLgHElm"
   },
   "outputs": [
    {
     "name": "stdout",
     "output_type": "stream",
     "text": [
      "[1, 2, 2, 3, 5, 6, 10, 11, 12, 14, 15, 17, 18, 20, 29]\n"
     ]
    }
   ],
   "source": [
    "#todo - Bubble sort starts arranging the elements from the top\n",
    "my_list = [10,1,20,3,6,2,5,11,15,2,12,14,17,18,29]\n",
    "for i in range (len(my_list) - 1):\n",
    "    for j in range(len(my_list)-1):\n",
    "        if(my_list[j]> my_list[j+1]):\n",
    "             my_list[j],my_list[j+1]=my_list[j+1],my_list[j]\n",
    "print(my_list)\n"
   ]
  },
  {
   "cell_type": "markdown",
   "metadata": {
    "id": "w1QgeWd2HElp"
   },
   "source": [
    "### Task 2\n",
    "\n",
    "Suppose you have a list named my_list as given below. <br/>\n",
    "my_list = [10,1,20,3,6,2,5,11,15,2,12,14,17,18,29] <br/>\n",
    "Now use selection sort to sort my_list into ascending order.\n",
    "\n",
    "**Output**<br/>\n",
    "[1, 2, 2, 3, 5, 6, 10, 11, 12, 14, 15, 17, 18, 20, 29]\n",
    "\n"
   ]
  },
  {
   "cell_type": "code",
   "execution_count": 11,
   "metadata": {
    "id": "am0B_8ICHElq"
   },
   "outputs": [
    {
     "name": "stdout",
     "output_type": "stream",
     "text": [
      "[1, 2, 2, 3, 5, 6, 10, 11, 12, 14, 15, 17, 18, 20, 29]\n"
     ]
    }
   ],
   "source": [
    "#todo Selection sort starts arranging the elements from the bottom\n",
    "my_list = [10,1,20,3,6,2,5,11,15,2,12,14,17,18,29]\n",
    "for i in range(len(my_list)-1):\n",
    "    min_indx = i\n",
    "    mi_val = my_list[i]\n",
    "    for j in range(i+1,len(my_list)):\n",
    "        if(my_list[j]<my_list[min_indx]):\n",
    "            min_indx = j\n",
    "    my_list[i],my_list[min_indx] = my_list[min_indx],my_list[i]\n",
    "    \n",
    "print(my_list)\n"
   ]
  },
  {
   "cell_type": "markdown",
   "metadata": {
    "id": "j4ffr2CAHElt"
   },
   "source": [
    "### Task  3\n",
    "\n",
    "Suppose you have a list named my_list as given below <br/>\n",
    "my_list=[10,1,20,3,6,2,5,11,15,2,12,14,17,18,29] <br/>\n",
    "Now use any of the two sorting techniques you have used above to sort the list in descending order.\n",
    "\n",
    "**Output**<br/>\n",
    "[29, 20, 18, 17, 15, 14, 12, 11, 10, 6, 5, 3, 2, 2, 1]\n"
   ]
  },
  {
   "cell_type": "code",
   "execution_count": null,
   "metadata": {
    "id": "n2X3YR-_HElt"
   },
   "outputs": [],
   "source": [
    "#todo\n",
    "my_list = [10,1,20,3,6,2,5,11,15,2,12,14,17,18,29]\n",
    "for indx in range(len(my_list)-1):\n",
    "    mi_indx = indx\n",
    "    mi_val = my_list[indx]\n",
    "    for indx2 in range(indx+1,len(my_list)):\n",
    "        if(my_list[indx2]>my_list[mi_indx]):\n",
    "            mi_indx = indx2\n",
    "    my_list[indx],my_list[mi_indx] = my_list[mi_indx],my_list[indx]\n",
    "    \n",
    "print(my_list)\n"
   ]
  },
  {
   "cell_type": "markdown",
   "metadata": {
    "id": "9iYiiTWWHElw"
   },
   "source": [
    "### Task 4\n",
    "\n",
    "Suppose you have a sitting arrangement of the students who will give the final exam in a list. The list contains the last two digits of their student ID as given below.<br/>\n",
    "\n",
    "sitting_list = [10,30,20,70,11,15,22,16,58,100,12,56,70,80] <br/>\n",
    "\n",
    "Now you want to organize the sitting arrangement of the students in your own way. You decide to sort all the students in the even indices of the list in ascending order and all the students in the odd indices of the list in descending order.  <br/>\n",
    "\n",
    "So, write a python program that organizes the list for you in this way.<br/>\n",
    "\n",
    "\n",
    "**Sample Output**<br/>\n",
    "[10, 100, 11, 80, 12, 70, 20, 56, 22, 30, 58, 16, 70, 15]"
   ]
  },
  {
   "cell_type": "code",
   "execution_count": 12,
   "metadata": {
    "id": "nPdUAKDJHElw"
   },
   "outputs": [
    {
     "name": "stdout",
     "output_type": "stream",
     "text": [
      "[10, 100, 11, 80, 12, 70, 20, 56, 22, 30, 58, 16, 70, 15]\n"
     ]
    }
   ],
   "source": [
    "#todo\n",
    "sitting_list = [10,30,20,70,11,15,22,16,58,100,12,56,70,80]\n",
    "for i in range(0,len(sitting_list),2):\n",
    "    for j in range ( 0, len(sitting_list)-2 , 2):\n",
    "        if(sitting_list[j]>sitting_list[j+2]):\n",
    "            sitting_list[j],sitting_list[j+2] = sitting_list[j+2] ,sitting_list[j]\n",
    "        \n",
    "        \n",
    "for i in range(1,len(sitting_list),2):\n",
    "    for j in range ( 1, len(sitting_list)-2 , 2):\n",
    "        if(sitting_list[j]<sitting_list[j+2]):\n",
    "            sitting_list[j],sitting_list[j+2] = sitting_list[j+2] ,sitting_list[j]\n",
    "        \n",
    "print(sitting_list)\n"
   ]
  },
  {
   "cell_type": "markdown",
   "metadata": {
    "id": "oVR1Tsa0HElz"
   },
   "source": [
    "### Task 5\n",
    "\n",
    "Suppose a list contains marks earned in the courses CSE110, PHY111, and MAT110 of each student consecutively in a nested list form. Your task is to take a course name as input from the user and sort the list based on the marks obtained in that course in order to finally print the names of the students in descending order of marks obtained i.e. from the student who earned the highest marks to the student who earned the lowest. <br/>\n",
    "\n",
    "For example, the list may look like <br/>\n",
    "lst = [ [\"Alan\", 95, 87, 91], [\"Turing\", 92, 90, 83], [\"Elon\", 87, 92, 80], [\"Musk\", 85, 94, 90] ] <br/>\n",
    "where for each nested list, 1st index holds the name of the student, 2nd index is total marks earned in the CSE110 course, 3rd index is PHY111 marks and 4th index is MAT110 marks. \n",
    "\n",
    "=====================================================\n",
    "\n",
    "**Hint:**<br/>\n",
    "You may create a function for sorting, then call it every time when needed instead of rewriting the code.\n",
    "\n",
    "You may get the data in the individual lists from the given nested list.\n",
    "\n",
    "=====================================================\n",
    "\n",
    "**Sample Input 1**<br/>\n",
    "MAT110\n",
    "\n",
    "**Sample Output 1**<br/>\n",
    "Alan <br/>\n",
    "Musk <br/>\n",
    "Turing <br/>\n",
    "Elon\n",
    "\n",
    "**Explanation:**<br/>\n",
    "Here the user gives us \"MAT110\" as the course name. Now, the students Alan, Turing, Elon and Musk earned 91, 83, 80 and 90 marks respectively in this course. If we sort it, Alan got the highest marks of 91 followed by Musk with 90 marks and Turing with 83 marks. Among these 4 students, Elon obtained the lowest marks in the MAT110 course with 80 marks. All of these has been illustrated in our sample output.\n",
    "\n",
    "=====================================================\n",
    "\n",
    "**Sample Input 2**<br/>\n",
    "PHY111\n",
    "\n",
    "**Sample Output 2**<br/>\n",
    "Musk <br/>\n",
    "Elon <br/>\n",
    "Turing <br/>\n",
    "Alan"
   ]
  },
  {
   "cell_type": "code",
   "execution_count": 5,
   "metadata": {
    "id": "539b2P1NHElz"
   },
   "outputs": [
    {
     "name": "stdout",
     "output_type": "stream",
     "text": [
      "Enter your course name: PHY111\n",
      "Musk\n",
      "Elon\n",
      "Turing\n",
      "Alan\n"
     ]
    }
   ],
   "source": [
    "#todo\n",
    "#name------>>>0\n",
    "#CSE110------>>>1\n",
    "#PHY111---->>>2\n",
    "#MAT110---->>>3\n",
    "#for CSE110\n",
    "'''\n",
    "lst = [ [\"Alan\", 95, 87, 91], [\"Turing\", 92, 90, 83], [\"Elon\", 87, 92, 80], [\"Musk\", 85, 94, 90] ]\n",
    "\n",
    "'''\n",
    "#for PHY111\n",
    "'''\n",
    " [ [\"Musk\", 85, 94, 90], [\"Elon\", 87, 92, 80], [\"Turing\", 92, 90, 83], [\"Alan\", 95, 87, 91]]\n",
    " \n",
    "'''\n",
    "##for PHY111\n",
    "'''\n",
    "lst = [ [\"Alan\", 95, 87, 91], [\"Musk\", 85, 94, 90] ],[\"Turing\", 92, 90, 83],[\"Elon\", 87, 92, 80]\n",
    "\n",
    "'''\n",
    "\n",
    "\n",
    "lst = [ [\"Alan\", 95, 87, 91], [\"Turing\", 92, 90, 83], [\"Elon\", 87, 92, 80], [\"Musk\", 85, 94, 90] ]\n",
    "course= input(\"Enter your course name: \")\n",
    "if course==\"CSE110\":\n",
    "    index = 1\n",
    "elif course==\"PHY111\":\n",
    "    index = 2\n",
    "else:\n",
    "    index = 3\n",
    "for i in range(len(lst)):\n",
    "    max_index = i\n",
    "    for j in range (i+1, len(lst)):\n",
    "        if lst[j][index]>lst[max_index][index]:\n",
    "            max_index = j\n",
    "    print(lst[max_index][0])\n",
    "    temp = lst[i]\n",
    "    lst[i]=lst[max_index] \n",
    "    lst[max_index] = temp\n",
    "\n"
   ]
  },
  {
   "cell_type": "markdown",
   "metadata": {
    "id": "B0Rqbyi4HEl2"
   },
   "source": [
    "### Task 6\n",
    "\n",
    "Suppose you have a list named my_list as given below. Your task is to sort the list in ascending order and print the count of numbers that have changed their positions in the process of sorting. <br/>\n",
    "\n",
    "my_list = [4, 2, 3, 1, 6, 5] <br/>\n",
    "\n",
    "Sorted list would be [1, 2, 3, 4, 5, 6] where 4 numbers (4, 1, 6 and 5) have changed their positions. Therefore our sample output here would be 4. Please check if your code is working correctly by changing the above list and using the knowledge given here to verify whether your code gives correct output for all different lists.\n",
    "\n",
    "\n",
    "**Sample Output for the above list**<br/>\n",
    "4"
   ]
  },
  {
   "cell_type": "code",
   "execution_count": 6,
   "metadata": {
    "id": "AMc8jAa7HEl2"
   },
   "outputs": [
    {
     "name": "stdout",
     "output_type": "stream",
     "text": [
      "4\n"
     ]
    }
   ],
   "source": [
    "#todo\n",
    "my_list = [4, 2, 3, 1, 6, 5]\n",
    "count = 0\n",
    "\n",
    "for i in range(len(my_list)-1):\n",
    "    min_index = i\n",
    "    for j in range(i+1 , len(my_list)):\n",
    "        if(my_list[j]< my_list[min_index]):\n",
    "            min_index= j\n",
    "    if (my_list[i]!=my_list[min_index]):\n",
    "        my_list[i],my_list[min_index] =my_list[min_index],my_list[i]\n",
    "        count+=1\n",
    "print(count*2)"
   ]
  },
  {
   "cell_type": "markdown",
   "metadata": {
    "id": "iIH5n0sJHEl5"
   },
   "source": [
    "### Task 7\n",
    "\n",
    "Write a python program that takes two lists from the user, merges the two lists, sorts the resulting list, and then finds the median of the elements in the two lists.\n",
    "\n",
    "=====================================================\n",
    "\n",
    "\n",
    "**Sample Input 1**<br/>\n",
    "list_one = [1, 2, 1, 4] <br/>\n",
    "list_two = [5, 4, 1]\n",
    "\n",
    "\n",
    "**Sample Output 1**<br/>\n",
    "Sorted list = [1, 1, 1, 2, 4, 4, 5] <br/>\n",
    "Median = 2\n",
    "\n",
    "=====================================================\n",
    "\n",
    "\n",
    "**Sample Input 2**<br/>\n",
    "list_one = [1, 7, 9, 10] <br/>\n",
    "list_two = [2, 7, 6, 5]\n",
    "\n",
    "\n",
    "**Sample Output 2**<br/>\n",
    "Sorted list = [1, 2, 5, 6, 7, 7, 9, 10] <br/>\n",
    "Median = 6.5\n",
    "\n"
   ]
  },
  {
   "cell_type": "code",
   "execution_count": 9,
   "metadata": {
    "id": "KsFxC7XbHEl6"
   },
   "outputs": [
    {
     "name": "stdout",
     "output_type": "stream",
     "text": [
      "Enter list 1 here: [1, 7, 9, 10]\n",
      "Enter list 2 here: [2, 7, 6, 5]\n",
      "Sorted list = [1, 2, 5, 6, 7, 7, 9, 10]\n",
      "Median 6.5\n"
     ]
    }
   ],
   "source": [
    "#todo\n",
    "user_list1 = (input(\"Enter list 1 here: \").replace('[', \"\").replace(']', \"\").replace('\"', \"\").replace(\"'\", \"\")).split(',')\n",
    "list_one=[]\n",
    "for i in user_list1:\n",
    "    i=int(i)\n",
    "    list_one.append(i)\n",
    "user_list2 =(input(\"Enter list 2 here: \").replace('[', \"\").replace(']', \"\").replace('\"', \"\").replace(\"'\", \"\")).split(',')\n",
    "list_two=[]\n",
    "for i in user_list2:\n",
    "    i=int(i)\n",
    "    list_two.append(i)\n",
    "\n",
    "list_new = list_one + list_two\n",
    "list_new.sort()\n",
    "print(\"Sorted list =\",list_new)\n",
    "median = 0 \n",
    "if(len(list_new)%2==0):\n",
    "    x = list_new[((len(list_new))//2)-1]\n",
    "    y = list_new[((len(list_new))//2)]\n",
    "    median = (x+y)/2\n",
    "else:\n",
    "          median = list_new[len(list_new)//2]\n",
    "print(\"Median\",median)"
   ]
  },
  {
   "cell_type": "markdown",
   "metadata": {
    "id": "-XKiwBR1HEl8"
   },
   "source": [
    "### Task 8\n",
    "\n",
    "\n",
    "Write a python program that takes a list from user containing both positive and negative numbers. The program then finds two pairs of values whose summation is closest to zero.\n",
    "\n",
    "=====================================================\n",
    "\n",
    "**Sample Input 1**<br/>\n",
    "list_one = [-10, 15, 2, 4, -4, 7, -8] \n",
    "\n",
    "\n",
    "**Sample Output 1**<br/>\n",
    "Two pairs which have the smallest sum = 4 and -4\n",
    "\n",
    "=====================================================\n",
    "\n",
    "\n",
    "**Sample Input 2**<br/>\n",
    "list_one = [1, -8, 4, -7, -20, 26, 70, -85]\n",
    "\n",
    "\n",
    "**Sample Output 2**<br/>\n",
    "Two pairs which have the smallest sum = 4 and -7"
   ]
  },
  {
   "cell_type": "code",
   "execution_count": null,
   "metadata": {
    "id": "5ORSGa5GHEl9"
   },
   "outputs": [],
   "source": [
    "#todo\n",
    "\n",
    "list1 = (input(\"Enter a list here: \").replace('[', \"\").replace(']', \"\").replace('\"', \"\").replace(\"'\", \"\")).split(',')\n",
    "list_one=[]\n",
    "for i in list1:\n",
    "    i=int(i)\n",
    "    list_one.append(i)\n",
    "min1=0\n",
    "min2=1\n",
    "min_sum=list_one[0]+list_one[1]\n",
    "for i in range(len(list_one)):\n",
    "    for j in range(i+1,len(list_one)):\n",
    "        sum2=list_one[i]+list_one[j]\n",
    "        if abs(sum2)<abs(min_sum):\n",
    "            min_sum=sum2\n",
    "            min1=i\n",
    "            min2=j\n",
    "\n",
    "print(\"Two pairs which have the smallest sum =\",list_one[min1],'and',list_one[min2]) \n",
    "\n",
    "\n"
   ]
  },
  {
   "cell_type": "code",
   "execution_count": null,
   "metadata": {},
   "outputs": [],
   "source": []
  },
  {
   "cell_type": "code",
   "execution_count": null,
   "metadata": {},
   "outputs": [],
   "source": []
  }
 ],
 "metadata": {
  "colab": {
   "collapsed_sections": [],
   "name": "CSE110 Lab Assignment 7 (Sorting and Searching).ipynb",
   "provenance": []
  },
  "kernelspec": {
   "display_name": "Python 3",
   "language": "python",
   "name": "python3"
  },
  "language_info": {
   "codemirror_mode": {
    "name": "ipython",
    "version": 3
   },
   "file_extension": ".py",
   "mimetype": "text/x-python",
   "name": "python",
   "nbconvert_exporter": "python",
   "pygments_lexer": "ipython3",
   "version": "3.8.8"
  }
 },
 "nbformat": 4,
 "nbformat_minor": 1
}
